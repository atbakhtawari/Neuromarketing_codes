{
 "cells": [
  {
   "cell_type": "code",
   "execution_count": 3,
   "metadata": {},
   "outputs": [
    {
     "name": "stderr",
     "output_type": "stream",
     "text": [
      "C:\\Users\\UC\\AppData\\Roaming\\Python\\Python311\\site-packages\\keras\\src\\layers\\rnn\\rnn.py:204: UserWarning: Do not pass an `input_shape`/`input_dim` argument to a layer. When using Sequential models, prefer using an `Input(shape)` object as the first layer in the model instead.\n",
      "  super().__init__(**kwargs)\n"
     ]
    },
    {
     "name": "stdout",
     "output_type": "stream",
     "text": [
      "Epoch 1/5\n",
      "\u001b[1m277/277\u001b[0m \u001b[32m━━━━━━━━━━━━━━━━━━━━\u001b[0m\u001b[37m\u001b[0m \u001b[1m27s\u001b[0m 94ms/step - accuracy: 0.5737 - loss: 0.6904 - val_accuracy: 0.6014 - val_loss: 0.6792\n",
      "Epoch 2/5\n",
      "\u001b[1m277/277\u001b[0m \u001b[32m━━━━━━━━━━━━━━━━━━━━\u001b[0m\u001b[37m\u001b[0m \u001b[1m29s\u001b[0m 104ms/step - accuracy: 0.6250 - loss: 0.6469 - val_accuracy: 0.5968 - val_loss: 0.6815\n",
      "Epoch 3/5\n",
      "\u001b[1m277/277\u001b[0m \u001b[32m━━━━━━━━━━━━━━━━━━━━\u001b[0m\u001b[37m\u001b[0m \u001b[1m29s\u001b[0m 104ms/step - accuracy: 0.6606 - loss: 0.6187 - val_accuracy: 0.5819 - val_loss: 0.6821\n",
      "Epoch 4/5\n",
      "\u001b[1m277/277\u001b[0m \u001b[32m━━━━━━━━━━━━━━━━━━━━\u001b[0m\u001b[37m\u001b[0m \u001b[1m30s\u001b[0m 108ms/step - accuracy: 0.6838 - loss: 0.5959 - val_accuracy: 0.5878 - val_loss: 0.6869\n",
      "Epoch 5/5\n",
      "\u001b[1m277/277\u001b[0m \u001b[32m━━━━━━━━━━━━━━━━━━━━\u001b[0m\u001b[37m\u001b[0m \u001b[1m31s\u001b[0m 110ms/step - accuracy: 0.6996 - loss: 0.5769 - val_accuracy: 0.5743 - val_loss: 0.6968\n",
      "\u001b[1m70/70\u001b[0m \u001b[32m━━━━━━━━━━━━━━━━━━━━\u001b[0m\u001b[37m\u001b[0m \u001b[1m3s\u001b[0m 37ms/step\n"
     ]
    },
    {
     "name": "stderr",
     "output_type": "stream",
     "text": [
      "C:\\Users\\UC\\AppData\\Roaming\\Python\\Python311\\site-packages\\sklearn\\utils\\validation.py:1300: DataConversionWarning: A column-vector y was passed when a 1d array was expected. Please change the shape of y to (n_samples, ), for example using ravel().\n",
      "  y = column_or_1d(y, warn=True)\n",
      "C:\\Users\\UC\\AppData\\Roaming\\Python\\Python311\\site-packages\\sklearn\\base.py:1474: DataConversionWarning: A column-vector y was passed when a 1d array was expected. Please change the shape of y to (n_samples,), for example using ravel().\n",
      "  return fit_method(estimator, *args, **kwargs)\n"
     ]
    },
    {
     "name": "stdout",
     "output_type": "stream",
     "text": [
      "Epoch 1/10\n"
     ]
    },
    {
     "name": "stderr",
     "output_type": "stream",
     "text": [
      "C:\\Users\\UC\\AppData\\Roaming\\Python\\Python311\\site-packages\\keras\\src\\layers\\convolutional\\base_conv.py:99: UserWarning: Do not pass an `input_shape`/`input_dim` argument to a layer. When using Sequential models, prefer using an `Input(shape)` object as the first layer in the model instead.\n",
      "  super().__init__(\n"
     ]
    },
    {
     "name": "stdout",
     "output_type": "stream",
     "text": [
      "\u001b[1m277/277\u001b[0m \u001b[32m━━━━━━━━━━━━━━━━━━━━\u001b[0m\u001b[37m\u001b[0m \u001b[1m4s\u001b[0m 12ms/step - accuracy: 0.5954 - loss: 2.5404 - val_accuracy: 0.6095 - val_loss: 0.6820\n",
      "Epoch 2/10\n",
      "\u001b[1m277/277\u001b[0m \u001b[32m━━━━━━━━━━━━━━━━━━━━\u001b[0m\u001b[37m\u001b[0m \u001b[1m3s\u001b[0m 12ms/step - accuracy: 0.6235 - loss: 0.6772 - val_accuracy: 0.6095 - val_loss: 0.6738\n",
      "Epoch 3/10\n",
      "\u001b[1m277/277\u001b[0m \u001b[32m━━━━━━━━━━━━━━━━━━━━\u001b[0m\u001b[37m\u001b[0m \u001b[1m3s\u001b[0m 11ms/step - accuracy: 0.6136 - loss: 0.6707 - val_accuracy: 0.6095 - val_loss: 0.6707\n",
      "Epoch 4/10\n",
      "\u001b[1m277/277\u001b[0m \u001b[32m━━━━━━━━━━━━━━━━━━━━\u001b[0m\u001b[37m\u001b[0m \u001b[1m3s\u001b[0m 12ms/step - accuracy: 0.6151 - loss: 0.6672 - val_accuracy: 0.6095 - val_loss: 0.6699\n",
      "Epoch 5/10\n",
      "\u001b[1m277/277\u001b[0m \u001b[32m━━━━━━━━━━━━━━━━━━━━\u001b[0m\u001b[37m\u001b[0m \u001b[1m3s\u001b[0m 11ms/step - accuracy: 0.6388 - loss: 0.6562 - val_accuracy: 0.6095 - val_loss: 0.6699\n",
      "Epoch 6/10\n",
      "\u001b[1m277/277\u001b[0m \u001b[32m━━━━━━━━━━━━━━━━━━━━\u001b[0m\u001b[37m\u001b[0m \u001b[1m3s\u001b[0m 12ms/step - accuracy: 0.6257 - loss: 0.6614 - val_accuracy: 0.6095 - val_loss: 0.6701\n",
      "Epoch 7/10\n",
      "\u001b[1m277/277\u001b[0m \u001b[32m━━━━━━━━━━━━━━━━━━━━\u001b[0m\u001b[37m\u001b[0m \u001b[1m3s\u001b[0m 12ms/step - accuracy: 0.6193 - loss: 0.6643 - val_accuracy: 0.6095 - val_loss: 0.6702\n",
      "Epoch 8/10\n",
      "\u001b[1m277/277\u001b[0m \u001b[32m━━━━━━━━━━━━━━━━━━━━\u001b[0m\u001b[37m\u001b[0m \u001b[1m3s\u001b[0m 12ms/step - accuracy: 0.6270 - loss: 0.6605 - val_accuracy: 0.6095 - val_loss: 0.6703\n",
      "Epoch 9/10\n",
      "\u001b[1m277/277\u001b[0m \u001b[32m━━━━━━━━━━━━━━━━━━━━\u001b[0m\u001b[37m\u001b[0m \u001b[1m3s\u001b[0m 11ms/step - accuracy: 0.6221 - loss: 0.6630 - val_accuracy: 0.6095 - val_loss: 0.6704\n",
      "Epoch 10/10\n",
      "\u001b[1m277/277\u001b[0m \u001b[32m━━━━━━━━━━━━━━━━━━━━\u001b[0m\u001b[37m\u001b[0m \u001b[1m3s\u001b[0m 11ms/step - accuracy: 0.6277 - loss: 0.6601 - val_accuracy: 0.6095 - val_loss: 0.6704\n",
      "\u001b[1m70/70\u001b[0m \u001b[32m━━━━━━━━━━━━━━━━━━━━\u001b[0m\u001b[37m\u001b[0m \u001b[1m0s\u001b[0m 5ms/step\n"
     ]
    },
    {
     "name": "stderr",
     "output_type": "stream",
     "text": [
      "C:\\Users\\UC\\AppData\\Roaming\\Python\\Python311\\site-packages\\sklearn\\utils\\validation.py:1300: DataConversionWarning: A column-vector y was passed when a 1d array was expected. Please change the shape of y to (n_samples, ), for example using ravel().\n",
      "  y = column_or_1d(y, warn=True)\n",
      "C:\\Users\\UC\\AppData\\Roaming\\Python\\Python311\\site-packages\\sklearn\\base.py:1474: DataConversionWarning: A column-vector y was passed when a 1d array was expected. Please change the shape of y to (n_samples,), for example using ravel().\n",
      "  return fit_method(estimator, *args, **kwargs)\n"
     ]
    },
    {
     "name": "stdout",
     "output_type": "stream",
     "text": [
      "Ensemble LSTM + SVM Accuracy: 0.6094808126410836\n",
      "Ensemble LSTM + Random Forest Accuracy: 0.9990970654627539\n"
     ]
    }
   ],
   "source": [
    "from sklearn.model_selection import train_test_split\n",
    "from sklearn.svm import SVC\n",
    "from sklearn.ensemble import RandomForestClassifier\n",
    "from sklearn.metrics import accuracy_score\n",
    "from tensorflow.keras.models import Sequential\n",
    "from tensorflow.keras.layers import LSTM, Dense, Conv1D, MaxPooling1D, Flatten\n",
    "import scipy.io as sio\n",
    "import numpy as np\n",
    "\n",
    "file_path = 'C:\\\\Users\\\\UC\\\\Documents\\\\NeuMa\\\\22117124\\\\featuress.mat'\n",
    "feet = sio.loadmat(file_path)\n",
    "data_array = feet['data_array']\n",
    "label_array = feet['label_array']\n",
    "\n",
    "# Reshape data array to (samples, time_steps, features)\n",
    "X = np.transpose(data_array, (2, 1, 0))\n",
    "\n",
    "# Split data into training and validation sets\n",
    "X_train, X_val, y_train, y_val = train_test_split(X, label_array, test_size=0.2, random_state=42)\n",
    "\n",
    "# Define and train the LSTM model\n",
    "lstm_model = Sequential([\n",
    "    LSTM(units=64, input_shape=(X_train.shape[1], X_train.shape[2])),\n",
    "    Dense(units=1, activation='sigmoid')\n",
    "])\n",
    "lstm_model.compile(optimizer='adam', loss='binary_crossentropy', metrics=['accuracy'])\n",
    "lstm_model.fit(X_train, y_train, epochs=5, batch_size=32, validation_data=(X_val, y_val))\n",
    "\n",
    "# Extract LSTM features from validation set\n",
    "lstm_features = lstm_model.predict(X_val)\n",
    "\n",
    "# Train ensemble classifiers\n",
    "svm_classifier = SVC()\n",
    "svm_classifier.fit(lstm_features, y_val)\n",
    "\n",
    "rf_classifier = RandomForestClassifier()\n",
    "rf_classifier.fit(lstm_features, y_val)\n",
    "\n",
    "# Define and train 1D CNN classifier\n",
    "cnn_model = Sequential([\n",
    "    Conv1D(filters=64, kernel_size=3, activation='relu', input_shape=(X_train.shape[1], X_train.shape[2])),\n",
    "    MaxPooling1D(pool_size=2),\n",
    "    Flatten(),\n",
    "    Dense(units=128, activation='relu'),\n",
    "    Dense(units=1, activation='sigmoid')\n",
    "])\n",
    "cnn_model.compile(optimizer='adam', loss='binary_crossentropy', metrics=['accuracy'])\n",
    "cnn_model.fit(X_train, y_train, epochs=10, batch_size=32, validation_data=(X_val, y_val))\n",
    "\n",
    "# Extract CNN features from validation set\n",
    "cnn_features = cnn_model.predict(X_val)\n",
    "\n",
    "# Combine features from LSTM and CNN\n",
    "ensemble_features = np.concatenate([lstm_features, cnn_features], axis=1)\n",
    "\n",
    "# Train ensemble classifiers on combined features\n",
    "svm_classifier.fit(ensemble_features, y_val)\n",
    "rf_classifier.fit(ensemble_features, y_val)\n",
    "\n",
    "# Evaluate ensemble classifiers\n",
    "ensemble_lstm_acc = accuracy_score(y_val, svm_classifier.predict(ensemble_features))\n",
    "ensemble_rf_acc = accuracy_score(y_val, rf_classifier.predict(ensemble_features))\n",
    "\n",
    "print(\"Ensemble LSTM + SVM Accuracy:\", ensemble_lstm_acc)\n",
    "print(\"Ensemble LSTM + Random Forest Accuracy:\", ensemble_rf_acc)\n"
   ]
  },
  {
   "cell_type": "code",
   "execution_count": 4,
   "metadata": {},
   "outputs": [
    {
     "name": "stderr",
     "output_type": "stream",
     "text": [
      "C:\\Users\\UC\\AppData\\Roaming\\Python\\Python311\\site-packages\\keras\\src\\layers\\rnn\\rnn.py:204: UserWarning: Do not pass an `input_shape`/`input_dim` argument to a layer. When using Sequential models, prefer using an `Input(shape)` object as the first layer in the model instead.\n",
      "  super().__init__(**kwargs)\n"
     ]
    },
    {
     "name": "stdout",
     "output_type": "stream",
     "text": [
      "Epoch 1/10\n",
      "\u001b[1m346/346\u001b[0m \u001b[32m━━━━━━━━━━━━━━━━━━━━\u001b[0m\u001b[37m\u001b[0m \u001b[1m45s\u001b[0m 126ms/step - accuracy: 0.5125 - loss: 0.7140 - val_accuracy: 0.5300 - val_loss: 0.6959\n",
      "Epoch 2/10\n",
      "\u001b[1m346/346\u001b[0m \u001b[32m━━━━━━━━━━━━━━━━━━━━\u001b[0m\u001b[37m\u001b[0m \u001b[1m54s\u001b[0m 157ms/step - accuracy: 0.6114 - loss: 0.6580 - val_accuracy: 0.5368 - val_loss: 0.6915\n",
      "Epoch 3/10\n",
      "\u001b[1m346/346\u001b[0m \u001b[32m━━━━━━━━━━━━━━━━━━━━\u001b[0m\u001b[37m\u001b[0m \u001b[1m54s\u001b[0m 156ms/step - accuracy: 0.6674 - loss: 0.6287 - val_accuracy: 0.5404 - val_loss: 0.7004\n",
      "Epoch 4/10\n",
      "\u001b[1m346/346\u001b[0m \u001b[32m━━━━━━━━━━━━━━━━━━━━\u001b[0m\u001b[37m\u001b[0m \u001b[1m54s\u001b[0m 156ms/step - accuracy: 0.7156 - loss: 0.5840 - val_accuracy: 0.5422 - val_loss: 0.7152\n",
      "Epoch 5/10\n",
      "\u001b[1m346/346\u001b[0m \u001b[32m━━━━━━━━━━━━━━━━━━━━\u001b[0m\u001b[37m\u001b[0m \u001b[1m55s\u001b[0m 160ms/step - accuracy: 0.7515 - loss: 0.5446 - val_accuracy: 0.5323 - val_loss: 0.7468\n",
      "Epoch 6/10\n",
      "\u001b[1m346/346\u001b[0m \u001b[32m━━━━━━━━━━━━━━━━━━━━\u001b[0m\u001b[37m\u001b[0m \u001b[1m53s\u001b[0m 153ms/step - accuracy: 0.7844 - loss: 0.4960 - val_accuracy: 0.5205 - val_loss: 0.7747\n",
      "Epoch 7/10\n",
      "\u001b[1m346/346\u001b[0m \u001b[32m━━━━━━━━━━━━━━━━━━━━\u001b[0m\u001b[37m\u001b[0m \u001b[1m52s\u001b[0m 152ms/step - accuracy: 0.8153 - loss: 0.4448 - val_accuracy: 0.5359 - val_loss: 0.8112\n",
      "Epoch 8/10\n",
      "\u001b[1m346/346\u001b[0m \u001b[32m━━━━━━━━━━━━━━━━━━━━\u001b[0m\u001b[37m\u001b[0m \u001b[1m53s\u001b[0m 152ms/step - accuracy: 0.8360 - loss: 0.4092 - val_accuracy: 0.5354 - val_loss: 0.8396\n",
      "Epoch 9/10\n",
      "\u001b[1m346/346\u001b[0m \u001b[32m━━━━━━━━━━━━━━━━━━━━\u001b[0m\u001b[37m\u001b[0m \u001b[1m52s\u001b[0m 151ms/step - accuracy: 0.8593 - loss: 0.3648 - val_accuracy: 0.5296 - val_loss: 0.8876\n",
      "Epoch 10/10\n",
      "\u001b[1m346/346\u001b[0m \u001b[32m━━━━━━━━━━━━━━━━━━━━\u001b[0m\u001b[37m\u001b[0m \u001b[1m54s\u001b[0m 155ms/step - accuracy: 0.8767 - loss: 0.3282 - val_accuracy: 0.5400 - val_loss: 0.9403\n",
      "\u001b[1m70/70\u001b[0m \u001b[32m━━━━━━━━━━━━━━━━━━━━\u001b[0m\u001b[37m\u001b[0m \u001b[1m4s\u001b[0m 60ms/step\n"
     ]
    },
    {
     "name": "stderr",
     "output_type": "stream",
     "text": [
      "C:\\Users\\UC\\AppData\\Roaming\\Python\\Python311\\site-packages\\sklearn\\utils\\validation.py:1300: DataConversionWarning: A column-vector y was passed when a 1d array was expected. Please change the shape of y to (n_samples, ), for example using ravel().\n",
      "  y = column_or_1d(y, warn=True)\n",
      "C:\\Users\\UC\\AppData\\Roaming\\Python\\Python311\\site-packages\\sklearn\\base.py:1474: DataConversionWarning: A column-vector y was passed when a 1d array was expected. Please change the shape of y to (n_samples,), for example using ravel().\n",
      "  return fit_method(estimator, *args, **kwargs)\n",
      "C:\\Users\\UC\\AppData\\Roaming\\Python\\Python311\\site-packages\\keras\\src\\layers\\convolutional\\base_conv.py:99: UserWarning: Do not pass an `input_shape`/`input_dim` argument to a layer. When using Sequential models, prefer using an `Input(shape)` object as the first layer in the model instead.\n",
      "  super().__init__(\n"
     ]
    },
    {
     "name": "stdout",
     "output_type": "stream",
     "text": [
      "Epoch 1/10\n",
      "\u001b[1m346/346\u001b[0m \u001b[32m━━━━━━━━━━━━━━━━━━━━\u001b[0m\u001b[37m\u001b[0m \u001b[1m5s\u001b[0m 13ms/step - accuracy: 0.5237 - loss: 2.5147 - val_accuracy: 0.4786 - val_loss: 0.7700\n",
      "Epoch 2/10\n",
      "\u001b[1m346/346\u001b[0m \u001b[32m━━━━━━━━━━━━━━━━━━━━\u001b[0m\u001b[37m\u001b[0m \u001b[1m5s\u001b[0m 13ms/step - accuracy: 0.6271 - loss: 0.6503 - val_accuracy: 0.5797 - val_loss: 0.7051\n",
      "Epoch 3/10\n",
      "\u001b[1m346/346\u001b[0m \u001b[32m━━━━━━━━━━━━━━━━━━━━\u001b[0m\u001b[37m\u001b[0m \u001b[1m4s\u001b[0m 13ms/step - accuracy: 0.6898 - loss: 0.5872 - val_accuracy: 0.5752 - val_loss: 0.7149\n",
      "Epoch 4/10\n",
      "\u001b[1m346/346\u001b[0m \u001b[32m━━━━━━━━━━━━━━━━━━━━\u001b[0m\u001b[37m\u001b[0m \u001b[1m4s\u001b[0m 12ms/step - accuracy: 0.7119 - loss: 0.5604 - val_accuracy: 0.5679 - val_loss: 0.7684\n",
      "Epoch 5/10\n",
      "\u001b[1m346/346\u001b[0m \u001b[32m━━━━━━━━━━━━━━━━━━━━\u001b[0m\u001b[37m\u001b[0m \u001b[1m4s\u001b[0m 12ms/step - accuracy: 0.7403 - loss: 0.5280 - val_accuracy: 0.5869 - val_loss: 0.7816\n",
      "Epoch 6/10\n",
      "\u001b[1m346/346\u001b[0m \u001b[32m━━━━━━━━━━━━━━━━━━━━\u001b[0m\u001b[37m\u001b[0m \u001b[1m4s\u001b[0m 13ms/step - accuracy: 0.7488 - loss: 0.5061 - val_accuracy: 0.5828 - val_loss: 0.7987\n",
      "Epoch 7/10\n",
      "\u001b[1m346/346\u001b[0m \u001b[32m━━━━━━━━━━━━━━━━━━━━\u001b[0m\u001b[37m\u001b[0m \u001b[1m4s\u001b[0m 12ms/step - accuracy: 0.7850 - loss: 0.4617 - val_accuracy: 0.5661 - val_loss: 0.7323\n",
      "Epoch 8/10\n",
      "\u001b[1m346/346\u001b[0m \u001b[32m━━━━━━━━━━━━━━━━━━━━\u001b[0m\u001b[37m\u001b[0m \u001b[1m4s\u001b[0m 13ms/step - accuracy: 0.7965 - loss: 0.4444 - val_accuracy: 0.5977 - val_loss: 0.8516\n",
      "Epoch 9/10\n",
      "\u001b[1m346/346\u001b[0m \u001b[32m━━━━━━━━━━━━━━━━━━━━\u001b[0m\u001b[37m\u001b[0m \u001b[1m4s\u001b[0m 12ms/step - accuracy: 0.8093 - loss: 0.4076 - val_accuracy: 0.5765 - val_loss: 0.9064\n",
      "Epoch 10/10\n",
      "\u001b[1m346/346\u001b[0m \u001b[32m━━━━━━━━━━━━━━━━━━━━\u001b[0m\u001b[37m\u001b[0m \u001b[1m4s\u001b[0m 12ms/step - accuracy: 0.8210 - loss: 0.3848 - val_accuracy: 0.6027 - val_loss: 1.1075\n",
      "\u001b[1m70/70\u001b[0m \u001b[32m━━━━━━━━━━━━━━━━━━━━\u001b[0m\u001b[37m\u001b[0m \u001b[1m0s\u001b[0m 6ms/step\n"
     ]
    },
    {
     "name": "stderr",
     "output_type": "stream",
     "text": [
      "C:\\Users\\UC\\AppData\\Roaming\\Python\\Python311\\site-packages\\sklearn\\utils\\validation.py:1300: DataConversionWarning: A column-vector y was passed when a 1d array was expected. Please change the shape of y to (n_samples, ), for example using ravel().\n",
      "  y = column_or_1d(y, warn=True)\n",
      "C:\\Users\\UC\\AppData\\Roaming\\Python\\Python311\\site-packages\\sklearn\\base.py:1474: DataConversionWarning: A column-vector y was passed when a 1d array was expected. Please change the shape of y to (n_samples,), for example using ravel().\n",
      "  return fit_method(estimator, *args, **kwargs)\n"
     ]
    },
    {
     "name": "stdout",
     "output_type": "stream",
     "text": [
      "Ensemble LSTM + SVM Accuracy: 0.618510158013544\n",
      "Ensemble LSTM + Random Forest Accuracy: 1.0\n"
     ]
    }
   ],
   "source": [
    "from sklearn.model_selection import train_test_split\n",
    "from sklearn.svm import SVC\n",
    "from sklearn.ensemble import RandomForestClassifier\n",
    "from sklearn.metrics import accuracy_score\n",
    "from tensorflow.keras.models import Sequential\n",
    "from tensorflow.keras.layers import LSTM, Dense, Conv1D, MaxPooling1D, Flatten\n",
    "from imblearn.over_sampling import RandomOverSampler\n",
    "import scipy.io as sio\n",
    "import numpy as np\n",
    "\n",
    "file_path = 'C:\\\\Users\\\\UC\\\\Documents\\\\NeuMa\\\\22117124\\\\featuress.mat'\n",
    "feet = sio.loadmat(file_path)\n",
    "data_array = feet['data_array']\n",
    "label_array = feet['label_array']\n",
    "\n",
    "# Reshape data array to (samples, time_steps, features)\n",
    "X = np.transpose(data_array, (2, 1, 0))\n",
    "\n",
    "# Split data into training and validation sets\n",
    "X_train, X_val, y_train, y_val = train_test_split(X, label_array, test_size=0.2, random_state=42)\n",
    "\n",
    "# Reshape y_train for RandomOverSampler\n",
    "y_train_reshaped = y_train.reshape(-1)\n",
    "\n",
    "# Apply RandomOverSampler to balance classes in training data\n",
    "ros = RandomOverSampler(random_state=42)\n",
    "X_train_resampled, y_train_resampled = ros.fit_resample(X_train.reshape(X_train.shape[0], -1), y_train_reshaped)\n",
    "\n",
    "# Reshape X_train_resampled back to original shape\n",
    "X_train_resampled = X_train_resampled.reshape(-1, X_train.shape[1], X_train.shape[2])\n",
    "\n",
    "# Define and train the LSTM model\n",
    "lstm_model = Sequential([\n",
    "    LSTM(units=64, input_shape=(X_train.shape[1], X_train.shape[2])),\n",
    "    Dense(units=1, activation='sigmoid')\n",
    "])\n",
    "lstm_model.compile(optimizer='adam', loss='binary_crossentropy', metrics=['accuracy'])\n",
    "lstm_model.fit(X_train_resampled, y_train_resampled, epochs=10, batch_size=32, validation_data=(X_val, y_val))\n",
    "\n",
    "# Extract LSTM features from validation set\n",
    "lstm_features = lstm_model.predict(X_val)\n",
    "\n",
    "# Train ensemble classifiers\n",
    "svm_classifier = SVC()\n",
    "svm_classifier.fit(lstm_features, y_val)\n",
    "\n",
    "rf_classifier = RandomForestClassifier()\n",
    "rf_classifier.fit(lstm_features, y_val)\n",
    "\n",
    "# Define and train 1D CNN classifier\n",
    "cnn_model = Sequential([\n",
    "    Conv1D(filters=64, kernel_size=3, activation='relu', input_shape=(X_train.shape[1], X_train.shape[2])),\n",
    "    MaxPooling1D(pool_size=2),\n",
    "    Flatten(),\n",
    "    Dense(units=128, activation='relu'),\n",
    "    Dense(units=1, activation='sigmoid')\n",
    "])\n",
    "cnn_model.compile(optimizer='adam', loss='binary_crossentropy', metrics=['accuracy'])\n",
    "cnn_model.fit(X_train_resampled, y_train_resampled, epochs=10, batch_size=32, validation_data=(X_val, y_val))\n",
    "\n",
    "# Extract CNN features from validation set\n",
    "cnn_features = cnn_model.predict(X_val)\n",
    "\n",
    "# Combine features from LSTM and CNN\n",
    "ensemble_features = np.concatenate([lstm_features, cnn_features], axis=1)\n",
    "\n",
    "# Train ensemble classifiers on combined features\n",
    "svm_classifier.fit(ensemble_features, y_val)\n",
    "rf_classifier.fit(ensemble_features, y_val)\n",
    "\n",
    "# Evaluate ensemble classifiers\n",
    "ensemble_lstm_acc = accuracy_score(y_val, svm_classifier.predict(ensemble_features))\n",
    "ensemble_rf_acc = accuracy_score(y_val, rf_classifier.predict(ensemble_features))\n",
    "\n",
    "print(\"Ensemble LSTM + SVM Accuracy:\", ensemble_lstm_acc)\n",
    "print(\"Ensemble LSTM + Random Forest Accuracy:\", ensemble_rf_acc)\n"
   ]
  }
 ],
 "metadata": {
  "kernelspec": {
   "display_name": "Python 3",
   "language": "python",
   "name": "python3"
  },
  "language_info": {
   "codemirror_mode": {
    "name": "ipython",
    "version": 3
   },
   "file_extension": ".py",
   "mimetype": "text/x-python",
   "name": "python",
   "nbconvert_exporter": "python",
   "pygments_lexer": "ipython3",
   "version": "3.11.8"
  }
 },
 "nbformat": 4,
 "nbformat_minor": 2
}
