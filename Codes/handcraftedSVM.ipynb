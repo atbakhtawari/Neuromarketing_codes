{
 "cells": [
  {
   "cell_type": "code",
   "execution_count": 2,
   "metadata": {},
   "outputs": [],
   "source": [
    "import numpy as np\n",
    "import scipy.io as sio\n",
    "from sklearn.model_selection import KFold\n",
    "from sklearn.svm import SVC\n",
    "from sklearn.preprocessing import StandardScaler\n",
    "from imblearn.over_sampling import SMOTE\n",
    "from sklearn.metrics import accuracy_score, precision_score, recall_score, f1_score, confusion_matrix\n",
    "from scipy.signal import welch\n",
    "from scipy.stats import skew, kurtosis\n"
   ]
  },
  {
   "cell_type": "code",
   "execution_count": 3,
   "metadata": {},
   "outputs": [
    {
     "data": {
      "text/plain": [
       "((11068, 19, 300), (1, 11068))"
      ]
     },
     "execution_count": 3,
     "metadata": {},
     "output_type": "execute_result"
    }
   ],
   "source": [
    "file_path = 'C:\\\\Users\\\\UC\\\\Documents\\\\NeuMa\\\\22117124\\\\featuress.mat'\n",
    "feet = sio.loadmat(file_path)\n",
    "Data_array = np.transpose(feet['Data_EEG'], (2, 0, 1))\n",
    "Label_array = feet['Label_EEG']\n",
    "Data_array.shape, Label_array.shape"
   ]
  },
  {
   "cell_type": "code",
   "execution_count": 3,
   "metadata": {},
   "outputs": [],
   "source": [
    "def extract_mean(data):\n",
    "    return np.mean(data, axis=-1)\n",
    "\n",
    "def extract_std(data):\n",
    "    return np.std(data, axis=-1)\n",
    "\n",
    "def extract_skewness(data):\n",
    "    return skew(data, axis=-1)\n",
    "\n",
    "def extract_kurtosis(data):\n",
    "    return kurtosis(data, axis=-1)\n",
    "\n",
    "def extract_max(data):\n",
    "    return np.max(data, axis=-1)\n",
    "\n",
    "def extract_min(data):\n",
    "    return np.min(data, axis=-1)\n",
    "\n",
    "def extract_range(data):\n",
    "    return np.max(data, axis=-1) - np.min(data, axis=-1)\n",
    "\n",
    "def extract_energy(data):\n",
    "    return np.sum(data**2, axis=-1)  # Energy of the signal\n",
    "\n",
    "def extract_zero_crossing_rate(data):\n",
    "    return np.sum(np.diff(np.sign(data), axis=-1) != 0, axis=-1) / (data.shape[-1] - 1)"
   ]
  },
  {
   "cell_type": "code",
   "execution_count": 4,
   "metadata": {},
   "outputs": [],
   "source": [
    "feature_extractors = [\n",
    "    extract_mean,\n",
    "    extract_std,\n",
    "    extract_skewness,\n",
    "    extract_kurtosis,\n",
    "    extract_max,\n",
    "    extract_min,\n",
    "    extract_range,\n",
    "    extract_energy,\n",
    "    extract_zero_crossing_rate\n",
    "]\n",
    "\n",
    "# Extract features from data array using all defined feature extractors\n",
    "def extract_features(data):\n",
    "    features = []\n",
    "    for extractor in feature_extractors:\n",
    "        extracted = extractor(data)\n",
    "        if isinstance(extracted, tuple):\n",
    "            features.extend(extracted)  # Unpack tuple if returned\n",
    "        else:\n",
    "            features.append(extracted)\n",
    "    return np.concatenate(features)\n",
    "\n",
    "# Extract features from data array\n",
    "featuress = np.array([extract_features(data) for data in Data_array])"
   ]
  },
  {
   "cell_type": "code",
   "execution_count": 5,
   "metadata": {},
   "outputs": [],
   "source": [
    "n_splits = 10\n",
    "kf = KFold(n_splits=n_splits, shuffle=True, random_state=42)\n",
    "\n",
    "# Initialize lists to store evaluation metrics across folds\n",
    "accuracy_scores = []\n",
    "precision_scores = []\n",
    "recall_scores = []\n",
    "f1_scores = []\n",
    "confusion_matrices = []\n",
    "\n",
    "# Perform KFold cross-validation\n",
    "for train_index, val_index in kf.split(featuress):\n",
    "    X_train, X_val = featuress[train_index], featuress[val_index]\n",
    "    y_train, y_val = Label_array[train_index], Label_array[val_index]\n",
    "    \n",
    "    # Apply SMOTE to balance classes in training data\n",
    "    smote = SMOTE(sampling_strategy='auto', random_state=42)\n",
    "    X_train_resampled, y_train_resampled = smote.fit_resample(X_train, y_train)\n",
    "    \n",
    "    # Scale features using StandardScaler\n",
    "    scaler = StandardScaler()\n",
    "    X_train_scaled = scaler.fit_transform(X_train_resampled)\n",
    "    X_val_scaled = scaler.transform(X_val)\n",
    "    "
   ]
  },
  {
   "cell_type": "code",
   "execution_count": 6,
   "metadata": {},
   "outputs": [
    {
     "data": {
      "text/plain": [
       "((12338, 171), (12338,))"
      ]
     },
     "execution_count": 6,
     "metadata": {},
     "output_type": "execute_result"
    }
   ],
   "source": [
    "X_train_resampled.shape, y_train_resampled.shape"
   ]
  },
  {
   "cell_type": "code",
   "execution_count": 7,
   "metadata": {},
   "outputs": [
    {
     "name": "stdout",
     "output_type": "stream",
     "text": [
      "Mean Accuracy: 0.6269196025293586\n",
      "Mean Precision: 0.6360276326799521\n",
      "Mean Recall: 0.6269196025293586\n",
      "Mean F1-score: 0.6305529925630327\n"
     ]
    }
   ],
   "source": [
    "clf = SVC(kernel='rbf', random_state=42)  # RBF kernel for SVM\n",
    "clf.fit(X_train_scaled, y_train_resampled)\n",
    "\n",
    "# Evaluate the model on the validation data\n",
    "y_pred = clf.predict(X_val_scaled)\n",
    "\n",
    "# Compute evaluation metrics\n",
    "accuracy = accuracy_score(y_val, y_pred)\n",
    "precision = precision_score(y_val, y_pred, average='weighted')\n",
    "recall = recall_score(y_val, y_pred, average='weighted')\n",
    "f1 = f1_score(y_val, y_pred, average='weighted')\n",
    "confusion = confusion_matrix(y_val, y_pred)\n",
    "\n",
    "# Store metrics in lists\n",
    "accuracy_scores.append(accuracy)\n",
    "precision_scores.append(precision)\n",
    "recall_scores.append(recall)\n",
    "f1_scores.append(f1)\n",
    "confusion_matrices.append(confusion)\n",
    "\n",
    "# Compute mean of evaluation metrics across folds\n",
    "mean_accuracy = np.mean(accuracy_scores)\n",
    "mean_precision = np.mean(precision_scores)\n",
    "mean_recall = np.mean(recall_scores)\n",
    "mean_f1 = np.mean(f1_scores)\n",
    "\n",
    "# Print mean evaluation metrics\n",
    "print(\"Mean Accuracy:\", mean_accuracy)\n",
    "print(\"Mean Precision:\", mean_precision)\n",
    "print(\"Mean Recall:\", mean_recall)\n",
    "print(\"Mean F1-score:\", mean_f1)"
   ]
  }
 ],
 "metadata": {
  "kernelspec": {
   "display_name": "Python 3",
   "language": "python",
   "name": "python3"
  },
  "language_info": {
   "codemirror_mode": {
    "name": "ipython",
    "version": 3
   },
   "file_extension": ".py",
   "mimetype": "text/x-python",
   "name": "python",
   "nbconvert_exporter": "python",
   "pygments_lexer": "ipython3",
   "version": "3.11.8"
  }
 },
 "nbformat": 4,
 "nbformat_minor": 2
}
